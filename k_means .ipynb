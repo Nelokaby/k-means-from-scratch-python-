{
 "cells": [
  {
   "cell_type": "code",
   "execution_count": 1,
   "id": "a7249b8f",
   "metadata": {},
   "outputs": [],
   "source": [
    "from sklearn import datasets\n",
    "import pandas as pd\n",
    "import matplotlib.pyplot as plt\n",
    "import seaborn as sns\n",
    "import numpy as np"
   ]
  },
  {
   "cell_type": "code",
   "execution_count": 2,
   "id": "e5f72ebb",
   "metadata": {},
   "outputs": [
    {
     "data": {
      "text/plain": [
       "['anagrams',\n",
       " 'anscombe',\n",
       " 'attention',\n",
       " 'brain_networks',\n",
       " 'car_crashes',\n",
       " 'diamonds',\n",
       " 'dots',\n",
       " 'exercise',\n",
       " 'flights',\n",
       " 'fmri',\n",
       " 'gammas',\n",
       " 'geyser',\n",
       " 'iris',\n",
       " 'mpg',\n",
       " 'penguins',\n",
       " 'planets',\n",
       " 'taxis',\n",
       " 'tips',\n",
       " 'titanic']"
      ]
     },
     "execution_count": 2,
     "metadata": {},
     "output_type": "execute_result"
    }
   ],
   "source": [
    "sns.get_dataset_names()"
   ]
  },
  {
   "cell_type": "code",
   "execution_count": 3,
   "id": "39c87c6a",
   "metadata": {},
   "outputs": [],
   "source": [
    "data = sns.load_dataset(\"iris\")"
   ]
  },
  {
   "cell_type": "code",
   "execution_count": 4,
   "id": "3056f1e8",
   "metadata": {},
   "outputs": [
    {
     "data": {
      "text/html": [
       "<div>\n",
       "<style scoped>\n",
       "    .dataframe tbody tr th:only-of-type {\n",
       "        vertical-align: middle;\n",
       "    }\n",
       "\n",
       "    .dataframe tbody tr th {\n",
       "        vertical-align: top;\n",
       "    }\n",
       "\n",
       "    .dataframe thead th {\n",
       "        text-align: right;\n",
       "    }\n",
       "</style>\n",
       "<table border=\"1\" class=\"dataframe\">\n",
       "  <thead>\n",
       "    <tr style=\"text-align: right;\">\n",
       "      <th></th>\n",
       "      <th>sepal_length</th>\n",
       "      <th>sepal_width</th>\n",
       "      <th>petal_length</th>\n",
       "      <th>petal_width</th>\n",
       "      <th>species</th>\n",
       "    </tr>\n",
       "  </thead>\n",
       "  <tbody>\n",
       "    <tr>\n",
       "      <th>0</th>\n",
       "      <td>5.1</td>\n",
       "      <td>3.5</td>\n",
       "      <td>1.4</td>\n",
       "      <td>0.2</td>\n",
       "      <td>setosa</td>\n",
       "    </tr>\n",
       "    <tr>\n",
       "      <th>1</th>\n",
       "      <td>4.9</td>\n",
       "      <td>3.0</td>\n",
       "      <td>1.4</td>\n",
       "      <td>0.2</td>\n",
       "      <td>setosa</td>\n",
       "    </tr>\n",
       "    <tr>\n",
       "      <th>2</th>\n",
       "      <td>4.7</td>\n",
       "      <td>3.2</td>\n",
       "      <td>1.3</td>\n",
       "      <td>0.2</td>\n",
       "      <td>setosa</td>\n",
       "    </tr>\n",
       "    <tr>\n",
       "      <th>3</th>\n",
       "      <td>4.6</td>\n",
       "      <td>3.1</td>\n",
       "      <td>1.5</td>\n",
       "      <td>0.2</td>\n",
       "      <td>setosa</td>\n",
       "    </tr>\n",
       "    <tr>\n",
       "      <th>4</th>\n",
       "      <td>5.0</td>\n",
       "      <td>3.6</td>\n",
       "      <td>1.4</td>\n",
       "      <td>0.2</td>\n",
       "      <td>setosa</td>\n",
       "    </tr>\n",
       "    <tr>\n",
       "      <th>...</th>\n",
       "      <td>...</td>\n",
       "      <td>...</td>\n",
       "      <td>...</td>\n",
       "      <td>...</td>\n",
       "      <td>...</td>\n",
       "    </tr>\n",
       "    <tr>\n",
       "      <th>145</th>\n",
       "      <td>6.7</td>\n",
       "      <td>3.0</td>\n",
       "      <td>5.2</td>\n",
       "      <td>2.3</td>\n",
       "      <td>virginica</td>\n",
       "    </tr>\n",
       "    <tr>\n",
       "      <th>146</th>\n",
       "      <td>6.3</td>\n",
       "      <td>2.5</td>\n",
       "      <td>5.0</td>\n",
       "      <td>1.9</td>\n",
       "      <td>virginica</td>\n",
       "    </tr>\n",
       "    <tr>\n",
       "      <th>147</th>\n",
       "      <td>6.5</td>\n",
       "      <td>3.0</td>\n",
       "      <td>5.2</td>\n",
       "      <td>2.0</td>\n",
       "      <td>virginica</td>\n",
       "    </tr>\n",
       "    <tr>\n",
       "      <th>148</th>\n",
       "      <td>6.2</td>\n",
       "      <td>3.4</td>\n",
       "      <td>5.4</td>\n",
       "      <td>2.3</td>\n",
       "      <td>virginica</td>\n",
       "    </tr>\n",
       "    <tr>\n",
       "      <th>149</th>\n",
       "      <td>5.9</td>\n",
       "      <td>3.0</td>\n",
       "      <td>5.1</td>\n",
       "      <td>1.8</td>\n",
       "      <td>virginica</td>\n",
       "    </tr>\n",
       "  </tbody>\n",
       "</table>\n",
       "<p>150 rows × 5 columns</p>\n",
       "</div>"
      ],
      "text/plain": [
       "     sepal_length  sepal_width  petal_length  petal_width    species\n",
       "0             5.1          3.5           1.4          0.2     setosa\n",
       "1             4.9          3.0           1.4          0.2     setosa\n",
       "2             4.7          3.2           1.3          0.2     setosa\n",
       "3             4.6          3.1           1.5          0.2     setosa\n",
       "4             5.0          3.6           1.4          0.2     setosa\n",
       "..            ...          ...           ...          ...        ...\n",
       "145           6.7          3.0           5.2          2.3  virginica\n",
       "146           6.3          2.5           5.0          1.9  virginica\n",
       "147           6.5          3.0           5.2          2.0  virginica\n",
       "148           6.2          3.4           5.4          2.3  virginica\n",
       "149           5.9          3.0           5.1          1.8  virginica\n",
       "\n",
       "[150 rows x 5 columns]"
      ]
     },
     "execution_count": 4,
     "metadata": {},
     "output_type": "execute_result"
    }
   ],
   "source": [
    "data"
   ]
  },
  {
   "cell_type": "code",
   "execution_count": 5,
   "id": "e9577471",
   "metadata": {},
   "outputs": [
    {
     "data": {
      "text/plain": [
       "<matplotlib.collections.PathCollection at 0x16216cd4fa0>"
      ]
     },
     "execution_count": 5,
     "metadata": {},
     "output_type": "execute_result"
    },
    {
     "data": {
      "image/png": "[encoded data removed]",
      "text/plain": [
       "<Figure size 432x288 with 1 Axes>"
      ]
     },
     "metadata": {
      "needs_background": "light"
     },
     "output_type": "display_data"
    }
   ],
   "source": [
    "plt.scatter(data[\"sepal_length\"],data[\"sepal_width\"])"
   ]
  },
  {
   "cell_type": "code",
   "execution_count": 6,
   "id": "404433c1",
   "metadata": {
    "scrolled": true
   },
   "outputs": [
    {
     "data": {
      "text/html": [
       "<div>\n",
       "<style scoped>\n",
       "    .dataframe tbody tr th:only-of-type {\n",
       "        vertical-align: middle;\n",
       "    }\n",
       "\n",
       "    .dataframe tbody tr th {\n",
       "        vertical-align: top;\n",
       "    }\n",
       "\n",
       "    .dataframe thead th {\n",
       "        text-align: right;\n",
       "    }\n",
       "</style>\n",
       "<table border=\"1\" class=\"dataframe\">\n",
       "  <thead>\n",
       "    <tr style=\"text-align: right;\">\n",
       "      <th></th>\n",
       "      <th>min</th>\n",
       "      <th>max</th>\n",
       "    </tr>\n",
       "  </thead>\n",
       "  <tbody>\n",
       "    <tr>\n",
       "      <th>sepal_length</th>\n",
       "      <td>4.3</td>\n",
       "      <td>7.9</td>\n",
       "    </tr>\n",
       "    <tr>\n",
       "      <th>sepal_width</th>\n",
       "      <td>2.0</td>\n",
       "      <td>4.4</td>\n",
       "    </tr>\n",
       "    <tr>\n",
       "      <th>petal_length</th>\n",
       "      <td>1.0</td>\n",
       "      <td>6.9</td>\n",
       "    </tr>\n",
       "    <tr>\n",
       "      <th>petal_width</th>\n",
       "      <td>0.1</td>\n",
       "      <td>2.5</td>\n",
       "    </tr>\n",
       "  </tbody>\n",
       "</table>\n",
       "</div>"
      ],
      "text/plain": [
       "              min  max\n",
       "sepal_length  4.3  7.9\n",
       "sepal_width   2.0  4.4\n",
       "petal_length  1.0  6.9\n",
       "petal_width   0.1  2.5"
      ]
     },
     "execution_count": 6,
     "metadata": {},
     "output_type": "execute_result"
    }
   ],
   "source": [
    "data.describe().T[[\"min\",\"max\"]]"
   ]
  },
  {
   "cell_type": "code",
   "execution_count": 7,
   "id": "39732ffa",
   "metadata": {},
   "outputs": [],
   "source": [
    "ready_data=np.array([data[\"sepal_length\"],data[\"sepal_width\"]]).T"
   ]
  },
  {
   "cell_type": "markdown",
   "id": "fa069eb1",
   "metadata": {},
   "source": [
    "## initial K means"
   ]
  },
  {
   "cell_type": "code",
   "execution_count": 123,
   "id": "52b22963",
   "metadata": {},
   "outputs": [],
   "source": [
    "def k_means(data,k):\n",
    "\n",
    "        s_len=np.random.uniform(4.3, 7.9,k)\n",
    "        s_wid=np.random.uniform(2.0, 4.4,k)\n",
    "        clusters=np.array([s_len,s_wid]).T\n",
    "        c=[]\n",
    "        cdata=dict()\n",
    "        old=np.zeros(clusters.shape) \n",
    "        while(abs(np.sum(old-clusters))>1):\n",
    "            old=clusters\n",
    "            for i in range(len(data)):\n",
    "                c.append(np.argmin(np.sum(abs(clusters-data[i]),axis=1)))\n",
    "                cdata[c[-1]]=data[i]\n",
    "                \n",
    "            for i in range(k):\n",
    "                if len(cdata)>i :\n",
    "                    if len(cdata[i])>0:\n",
    "                        cdata[i]=np.array(cdata[i])\n",
    "                else:\n",
    "                    break\n",
    "            for i in range(k):\n",
    "                if len(cdata)>i:\n",
    "                    clusters[i]=np.sum(cdata[i],axis=0)/len(cdata[i])\n",
    "\n",
    "        return clusters , c\n",
    "    "
   ]
  },
  {
   "cell_type": "code",
   "execution_count": 124,
   "id": "f10e9496",
   "metadata": {},
   "outputs": [],
   "source": [
    "clusters,labels=k_means(ready_data,20)"
   ]
  },
  {
   "cell_type": "code",
   "execution_count": 125,
   "id": "85984c99",
   "metadata": {},
   "outputs": [
    {
     "data": {
      "text/plain": [
       "(150, 2)"
      ]
     },
     "execution_count": 125,
     "metadata": {},
     "output_type": "execute_result"
    }
   ],
   "source": [
    "ready_data.shape"
   ]
  },
  {
   "cell_type": "markdown",
   "id": "85a4da30",
   "metadata": {},
   "source": [
    "# bad result"
   ]
  },
  {
   "cell_type": "code",
   "execution_count": 126,
   "id": "9c2c2751",
   "metadata": {
    "scrolled": true
   },
   "outputs": [
    {
     "data": {
      "text/plain": [
       "<matplotlib.collections.PathCollection at 0x1621aad3e20>"
      ]
     },
     "execution_count": 126,
     "metadata": {},
     "output_type": "execute_result"
    },
    {
     "data": {
      "image/png": "[encoded data removed]",
      "text/plain": [
       "<Figure size 432x288 with 1 Axes>"
      ]
     },
     "metadata": {
      "needs_background": "light"
     },
     "output_type": "display_data"
    }
   ],
   "source": [
    "plt.scatter(ready_data[:,0],ready_data[:,1],c=labels)"
   ]
  },
  {
   "cell_type": "markdown",
   "id": "7dc7ab88",
   "metadata": {},
   "source": [
    "# k means with best initial centroids"
   ]
  },
  {
   "cell_type": "markdown",
   "id": "eb2bceca",
   "metadata": {},
   "source": [
    "# "
   ]
  },
  {
   "cell_type": "code",
   "execution_count": 155,
   "id": "64a63474",
   "metadata": {},
   "outputs": [],
   "source": [
    "def best_k_means(data,k):\n",
    "    j=0\n",
    "    jlist=[]\n",
    "    dict_of_loop={\n",
    "        \"dest_no\":[],\n",
    "        \"dest_value\":[],\n",
    "        \"clusters\":[],\n",
    "        \"labels\":[]\n",
    "    }\n",
    "    \n",
    "    for best in range(100):\n",
    "        summ=0\n",
    "        \n",
    "        cl=[]\n",
    "        for i in range(data.shape[1]):\n",
    "            cl.append(np.random.uniform(data[:,i].min(), data[:,i].max(),k))\n",
    "\n",
    "        clusters=np.array(cl).T\n",
    "        c=[]\n",
    "        cdata=dict()\n",
    "        for i in range(k):\n",
    "            cdata[i]=[]\n",
    "        old=np.zeros(clusters.shape)\n",
    "        \n",
    "        while(abs(np.sum(old-clusters))>1):\n",
    "            old=clusters\n",
    "            for i in range(len(data)):\n",
    "                c.append(np.argmin(np.sum(abs(clusters-data[i]),axis=1)))\n",
    "                cdata[c[-1]].append(data[i])\n",
    "                \n",
    "            for i in range(k):\n",
    "                if len(cdata)>i:\n",
    "                    if len(cdata[i])>0:\n",
    "                        cdata[i]=np.array(cdata[i])\n",
    "            for i in range(k):\n",
    "                if len(cdata)>i :\n",
    "                    if len(cdata[i])>0:\n",
    "                        clusters[i]=np.sum(cdata[i],axis=0)/len(cdata[i])\n",
    "                \n",
    "        #save values\n",
    "        dict_of_loop[\"dest_no\"].append(best)\n",
    "        dict_of_loop[\"clusters\"].append(clusters)\n",
    "        dict_of_loop[\"labels\"].append(c)\n",
    "        \n",
    "        for i in range(k):\n",
    "            if len(cdata)>i:\n",
    "                if len(cdata[i])>0:\n",
    "                    summ=summ+np.sum((cdata[i]-clusters[i])**2)\n",
    "            \n",
    "        j=summ/len(data)\n",
    "        dict_of_loop[\"dest_value\"].append(j)\n",
    "        jlist.append(j)\n",
    "    \n",
    "    bestj=jlist.index(min(jlist))\n",
    "    return jlist , bestj , dict_of_loop , min(jlist)\n",
    "    "
   ]
  },
  {
   "cell_type": "code",
   "execution_count": 156,
   "id": "e5380588",
   "metadata": {
    "scrolled": false
   },
   "outputs": [],
   "source": [
    "list_loss,bestj,dict1,best=best_k_means(ready_data,3)"
   ]
  },
  {
   "cell_type": "code",
   "execution_count": 157,
   "id": "27ad9c28",
   "metadata": {
    "scrolled": true
   },
   "outputs": [
    {
     "data": {
      "text/plain": [
       "<matplotlib.collections.PathCollection at 0x1621ad46280>"
      ]
     },
     "execution_count": 157,
     "metadata": {},
     "output_type": "execute_result"
    },
    {
     "data": {
      "image/png": "[encoded data removed]",
      "text/plain": [
       "<Figure size 432x288 with 1 Axes>"
      ]
     },
     "metadata": {
      "needs_background": "light"
     },
     "output_type": "display_data"
    }
   ],
   "source": [
    "plt.scatter(ready_data[:,0],ready_data[:,1],c=dict1[\"labels\"][bestj])"
   ]
  },
  {
   "cell_type": "code",
   "execution_count": 158,
   "id": "6b51d1e7",
   "metadata": {},
   "outputs": [
    {
     "data": {
      "text/plain": [
       "50"
      ]
     },
     "execution_count": 158,
     "metadata": {},
     "output_type": "execute_result"
    }
   ],
   "source": [
    "bestj"
   ]
  },
  {
   "cell_type": "code",
   "execution_count": 159,
   "id": "7723c21b",
   "metadata": {},
   "outputs": [
    {
     "data": {
      "text/plain": [
       "0.25874404276684976"
      ]
     },
     "execution_count": 159,
     "metadata": {},
     "output_type": "execute_result"
    }
   ],
   "source": [
    "min(dict1[\"dest_value\"])"
   ]
  },
  {
   "cell_type": "code",
   "execution_count": 160,
   "id": "22937091",
   "metadata": {},
   "outputs": [
    {
     "data": {
      "text/plain": [
       "0.25874404276684976"
      ]
     },
     "execution_count": 160,
     "metadata": {},
     "output_type": "execute_result"
    }
   ],
   "source": [
    "dict1[\"dest_value\"][bestj]"
   ]
  },
  {
   "cell_type": "code",
   "execution_count": 161,
   "id": "b80fae33",
   "metadata": {},
   "outputs": [
    {
     "data": {
      "text/plain": [
       "array([[6.05151515, 2.80757576],\n",
       "       [5.01403509, 3.3122807 ],\n",
       "       [7.08518519, 3.12962963]])"
      ]
     },
     "execution_count": 161,
     "metadata": {},
     "output_type": "execute_result"
    }
   ],
   "source": [
    "dict1[\"clusters\"][bestj]"
   ]
  },
  {
   "cell_type": "markdown",
   "id": "4333f9a7",
   "metadata": {},
   "source": [
    "# Elbow method"
   ]
  },
  {
   "cell_type": "code",
   "execution_count": 162,
   "id": "e0abb57f",
   "metadata": {},
   "outputs": [
    {
     "data": {
      "text/plain": [
       "[<matplotlib.lines.Line2D at 0x1621bfb4fa0>]"
      ]
     },
     "execution_count": 162,
     "metadata": {},
     "output_type": "execute_result"
    },
    {
     "data": {
      "image/png": "[encoded data removed]",
      "text/plain": [
       "<Figure size 432x288 with 1 Axes>"
      ]
     },
     "metadata": {
      "needs_background": "light"
     },
     "output_type": "display_data"
    }
   ],
   "source": [
    "k=np.linspace(1,10,10)\n",
    "n=[]\n",
    "for i in range(1,11):\n",
    "    list_loss,bestj,dict1,best=best_k_means(ready_data,i)\n",
    "    n.append(best)\n",
    " \n",
    "plt.plot(k,n)"
   ]
  },
  {
   "cell_type": "code",
   "execution_count": 164,
   "id": "03806428",
   "metadata": {},
   "outputs": [
    {
     "data": {
      "text/plain": [
       "array([ 1.,  2.,  3.,  4.,  5.,  6.,  7.,  8.,  9., 10.])"
      ]
     },
     "execution_count": 164,
     "metadata": {},
     "output_type": "execute_result"
    },
    {
     "data": {
      "image/png": "[encoded data removed]",
      "text/plain": [
       "<Figure size 1080x432 with 1 Axes>"
      ]
     },
     "metadata": {
      "needs_background": "light"
     },
     "output_type": "display_data"
    }
   ],
   "source": [
    "plt.figure(figsize=(15,6))\n",
    "plt.plot(k,n)\n",
    "k"
   ]
  },
  {
   "cell_type": "code",
   "execution_count": 214,
   "id": "c35cf64b",
   "metadata": {},
   "outputs": [
    {
     "data": {
      "text/plain": [
       "0.09800964340120256"
      ]
     },
     "execution_count": 214,
     "metadata": {},
     "output_type": "execute_result"
    }
   ],
   "source": [
    "list_loss,bestj,dict1,best=best_k_means(ready_data,10)\n",
    "best"
   ]
  },
  {
   "cell_type": "markdown",
   "id": "9f46aa0b",
   "metadata": {},
   "source": [
    "# "
   ]
  },
  {
   "cell_type": "markdown",
   "id": "c6e0c839",
   "metadata": {},
   "source": [
    "#### I will add comments and the documentation later because I don't have any time now. So, download this notebook again after a while."
   ]
  },
  {
   "cell_type": "code",
   "execution_count": null,
   "id": "821fd85b",
   "metadata": {},
   "outputs": [],
   "source": []
  }
 ],
 "metadata": {
  "kernelspec": {
   "display_name": "Python 3 (ipykernel)",
   "language": "python",
   "name": "python3"
  },
  "language_info": {
   "codemirror_mode": {
    "name": "ipython",
    "version": 3
   },
   "file_extension": ".py",
   "mimetype": "text/x-python",
   "name": "python",
   "nbconvert_exporter": "python",
   "pygments_lexer": "ipython3",
   "version": "3.9.7"
  }
 },
 "nbformat": 4,
 "nbformat_minor": 5
}
